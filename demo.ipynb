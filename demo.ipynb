{
 "nbformat": 4,
 "nbformat_minor": 0,
 "metadata": {
  "colab": {
   "provenance": [],
   "gpuType": "T4",
   "authorship_tag": "ABX9TyNAU6x0vee3tr+7FTmfmc08",
   "include_colab_link": true
  },
  "kernelspec": {
   "name": "python3",
   "display_name": "Python 3 (ipykernel)",
   "language": "python"
  },
  "language_info": {
   "name": "python"
  },
  "accelerator": "GPU"
 },
 "cells": [
  {
   "cell_type": "markdown",
   "metadata": {
    "id": "view-in-github",
    "colab_type": "text"
   },
   "source": [
    "<a href=\"https://colab.research.google.com/github/isarandi/nlf/blob/main/demo.ipynb\" target=\"_parent\"><img src=\"https://colab.research.google.com/assets/colab-badge.svg\" alt=\"Open In Colab\"/></a>"
   ]
  },
  {
   "cell_type": "code",
   "metadata": {
    "id": "z9M_fO5v8mW4",
    "ExecuteTime": {
     "end_time": "2024-12-12T18:07:32.095453Z",
     "start_time": "2024-12-12T18:07:08.974430Z"
    }
   },
   "source": [
    "# PyTorch version\n",
    "\n",
    "import torch\n",
    "import torchvision  # Must import this for the model to load without error\n",
    "\n",
    "! mkdir -p models\n",
    "! wget -q -O models/nlf_l_multi.torchscript https://bit.ly/nlf_l_pt\n",
    "model = torch.jit.load('models/nlf_l_multi.torchscript').cuda().eval()\n",
    "image = torchvision.io.read_image('example_image.jpg').cuda()\n",
    "frame_batch = image.unsqueeze(0)\n",
    "\n",
    "with torch.inference_mode(), torch.device('cuda'):\n",
    "   pred = model.detect_smpl_batched(frame_batch)\n",
    "\n",
    "# SMPL Parametric predictions\n",
    "pred['pose'], pred['betas'], pred['trans']\n",
    "pred['joints3d'], pred['vertices3d']\n",
    "pred['joints2d'], pred['vertices2d']\n",
    "\n",
    "# Nonparametric joints and vertices\n",
    "pred['joints3d_nonparam'], pred['vertices3d_nonparam']\n",
    "pred['joints2d_nonparam'], pred['vertices2d_nonparam']\n",
    "pred['joint_uncertainties'], pred['vertex_uncertainties']"
   ],
   "outputs": [
    {
     "ename": "RuntimeError",
     "evalue": "[Errno 2] No such file or directory: 'example_image.jpg'",
     "output_type": "error",
     "traceback": [
      "\u001B[0;31m---------------------------------------------------------------------------\u001B[0m",
      "\u001B[0;31mRuntimeError\u001B[0m                              Traceback (most recent call last)",
      "Cell \u001B[0;32mIn[7], line 9\u001B[0m\n\u001B[1;32m      7\u001B[0m get_ipython()\u001B[38;5;241m.\u001B[39msystem(\u001B[38;5;124m'\u001B[39m\u001B[38;5;124m wget -q -O models/nlf_l_multi.torchscript https://bit.ly/nlf_l_pt\u001B[39m\u001B[38;5;124m'\u001B[39m)\n\u001B[1;32m      8\u001B[0m model \u001B[38;5;241m=\u001B[39m torch\u001B[38;5;241m.\u001B[39mjit\u001B[38;5;241m.\u001B[39mload(\u001B[38;5;124m'\u001B[39m\u001B[38;5;124mmodels/nlf_l_multi.torchscript\u001B[39m\u001B[38;5;124m'\u001B[39m)\u001B[38;5;241m.\u001B[39mcuda()\u001B[38;5;241m.\u001B[39meval()\n\u001B[0;32m----> 9\u001B[0m image \u001B[38;5;241m=\u001B[39m \u001B[43mtorchvision\u001B[49m\u001B[38;5;241;43m.\u001B[39;49m\u001B[43mio\u001B[49m\u001B[38;5;241;43m.\u001B[39;49m\u001B[43mread_image\u001B[49m\u001B[43m(\u001B[49m\u001B[38;5;124;43m'\u001B[39;49m\u001B[38;5;124;43mexample_image.jpg\u001B[39;49m\u001B[38;5;124;43m'\u001B[39;49m\u001B[43m)\u001B[49m\u001B[38;5;241m.\u001B[39mcuda()\n\u001B[1;32m     10\u001B[0m frame_batch \u001B[38;5;241m=\u001B[39m image\u001B[38;5;241m.\u001B[39munsqueeze(\u001B[38;5;241m0\u001B[39m)\n\u001B[1;32m     12\u001B[0m \u001B[38;5;28;01mwith\u001B[39;00m torch\u001B[38;5;241m.\u001B[39minference_mode(), torch\u001B[38;5;241m.\u001B[39mdevice(\u001B[38;5;124m'\u001B[39m\u001B[38;5;124mcuda\u001B[39m\u001B[38;5;124m'\u001B[39m):\n",
      "File \u001B[0;32m~/micromamba/envs/py10/lib/python3.10/site-packages/torchvision/io/image.py:330\u001B[0m, in \u001B[0;36mread_image\u001B[0;34m(path, mode, apply_exif_orientation)\u001B[0m\n\u001B[1;32m    328\u001B[0m \u001B[38;5;28;01mif\u001B[39;00m \u001B[38;5;129;01mnot\u001B[39;00m torch\u001B[38;5;241m.\u001B[39mjit\u001B[38;5;241m.\u001B[39mis_scripting() \u001B[38;5;129;01mand\u001B[39;00m \u001B[38;5;129;01mnot\u001B[39;00m torch\u001B[38;5;241m.\u001B[39mjit\u001B[38;5;241m.\u001B[39mis_tracing():\n\u001B[1;32m    329\u001B[0m     _log_api_usage_once(read_image)\n\u001B[0;32m--> 330\u001B[0m data \u001B[38;5;241m=\u001B[39m \u001B[43mread_file\u001B[49m\u001B[43m(\u001B[49m\u001B[43mpath\u001B[49m\u001B[43m)\u001B[49m\n\u001B[1;32m    331\u001B[0m \u001B[38;5;28;01mreturn\u001B[39;00m decode_image(data, mode, apply_exif_orientation\u001B[38;5;241m=\u001B[39mapply_exif_orientation)\n",
      "File \u001B[0;32m~/micromamba/envs/py10/lib/python3.10/site-packages/torchvision/io/image.py:64\u001B[0m, in \u001B[0;36mread_file\u001B[0;34m(path)\u001B[0m\n\u001B[1;32m     62\u001B[0m \u001B[38;5;28;01mif\u001B[39;00m \u001B[38;5;129;01mnot\u001B[39;00m torch\u001B[38;5;241m.\u001B[39mjit\u001B[38;5;241m.\u001B[39mis_scripting() \u001B[38;5;129;01mand\u001B[39;00m \u001B[38;5;129;01mnot\u001B[39;00m torch\u001B[38;5;241m.\u001B[39mjit\u001B[38;5;241m.\u001B[39mis_tracing():\n\u001B[1;32m     63\u001B[0m     _log_api_usage_once(read_file)\n\u001B[0;32m---> 64\u001B[0m data \u001B[38;5;241m=\u001B[39m \u001B[43mtorch\u001B[49m\u001B[38;5;241;43m.\u001B[39;49m\u001B[43mops\u001B[49m\u001B[38;5;241;43m.\u001B[39;49m\u001B[43mimage\u001B[49m\u001B[38;5;241;43m.\u001B[39;49m\u001B[43mread_file\u001B[49m\u001B[43m(\u001B[49m\u001B[38;5;28;43mstr\u001B[39;49m\u001B[43m(\u001B[49m\u001B[43mpath\u001B[49m\u001B[43m)\u001B[49m\u001B[43m)\u001B[49m\n\u001B[1;32m     65\u001B[0m \u001B[38;5;28;01mreturn\u001B[39;00m data\n",
      "File \u001B[0;32m~/micromamba/envs/py10/lib/python3.10/site-packages/torch/_ops.py:1116\u001B[0m, in \u001B[0;36mOpOverloadPacket.__call__\u001B[0;34m(self, *args, **kwargs)\u001B[0m\n\u001B[1;32m   1114\u001B[0m \u001B[38;5;28;01mif\u001B[39;00m \u001B[38;5;28mself\u001B[39m\u001B[38;5;241m.\u001B[39m_has_torchbind_op_overload \u001B[38;5;129;01mand\u001B[39;00m _must_dispatch_in_python(args, kwargs):\n\u001B[1;32m   1115\u001B[0m     \u001B[38;5;28;01mreturn\u001B[39;00m _call_overload_packet_from_python(\u001B[38;5;28mself\u001B[39m, args, kwargs)\n\u001B[0;32m-> 1116\u001B[0m \u001B[38;5;28;01mreturn\u001B[39;00m \u001B[38;5;28;43mself\u001B[39;49m\u001B[38;5;241;43m.\u001B[39;49m\u001B[43m_op\u001B[49m\u001B[43m(\u001B[49m\u001B[38;5;241;43m*\u001B[39;49m\u001B[43margs\u001B[49m\u001B[43m,\u001B[49m\u001B[43m \u001B[49m\u001B[38;5;241;43m*\u001B[39;49m\u001B[38;5;241;43m*\u001B[39;49m\u001B[43m(\u001B[49m\u001B[43mkwargs\u001B[49m\u001B[43m \u001B[49m\u001B[38;5;129;43;01mor\u001B[39;49;00m\u001B[43m \u001B[49m\u001B[43m{\u001B[49m\u001B[43m}\u001B[49m\u001B[43m)\u001B[49m\u001B[43m)\u001B[49m\n",
      "\u001B[0;31mRuntimeError\u001B[0m: [Errno 2] No such file or directory: 'example_image.jpg'"
     ]
    }
   ],
   "execution_count": 7
  },
  {
   "cell_type": "code",
   "execution_count": null,
   "metadata": {
    "id": "Axm3SI936RD6"
   },
   "outputs": [],
   "source": [
    "\n",
    "!# TF version\n",
    "\n",
    "import tensorflow as tf\n",
    "import tensorflow_hub as tfhub\n",
    "\n",
    "model = tfhub.load('https://bit.ly/nlf_l')  # Takes several minutes\n",
    "! wget -q https://images.pexels.com/photos/8928887/pexels-photo-8928887.jpeg?cs=srgb&dl=pexels-rdne-8928887.jpg&fm=jpg&w=640&h=960 -O example.jpg\n",
    "img = tf.image.decode_image(tf.io.read_file('example.jpg'))\n",
    "pred = model.detect_smpl(img)\n",
    "\n",
    "# SMPL Parametric predictions\n",
    "pred['pose'], pred['betas'], pred['trans']\n",
    "pred['joints3d'], pred['vertices3d']\n",
    "pred['joints2d'], pred['vertices2d']\n",
    "\n",
    "# Nonparametric joints and vertices\n",
    "pred['joints3d_nonparam'], pred['vertices3d_nonparam']\n",
    "pred['joints2d_nonparam'], pred['vertices2d_nonparam']\n",
    "pred['joint_uncertainties'], pred['vertex_uncertainties']"
   ]
  },
  {
   "cell_type": "code",
   "source": "! realpath .",
   "metadata": {
    "id": "9ZOs2eUM9ywg",
    "ExecuteTime": {
     "end_time": "2024-12-12T18:05:27.887427Z",
     "start_time": "2024-12-12T18:05:27.763937Z"
    }
   },
   "outputs": [
    {
     "name": "stdout",
     "output_type": "stream",
     "text": [
      "/home/sarandi/rwth-home2/pose/pycharm/metrabs-bosch\r\n"
     ]
    }
   ],
   "execution_count": 3
  }
 ]
}
