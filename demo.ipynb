{
  "nbformat": 4,
  "nbformat_minor": 0,
  "metadata": {
    "colab": {
      "provenance": [],
      "gpuType": "T4",
      "authorship_tag": "ABX9TyNAU6x0vee3tr+7FTmfmc08",
      "include_colab_link": true
    },
    "kernelspec": {
      "name": "python3",
      "display_name": "Python 3"
    },
    "language_info": {
      "name": "python"
    },
    "accelerator": "GPU"
  },
  "cells": [
    {
      "cell_type": "markdown",
      "metadata": {
        "id": "view-in-github",
        "colab_type": "text"
      },
      "source": [
        "<a href=\"https://colab.research.google.com/github/isarandi/nlf/blob/main/demo.ipynb\" target=\"_parent\"><img src=\"https://colab.research.google.com/assets/colab-badge.svg\" alt=\"Open In Colab\"/></a>"
      ]
    },
    {
      "cell_type": "code",
      "execution_count": null,
      "metadata": {
        "id": "z9M_fO5v8mW4"
      },
      "outputs": [],
      "source": []
    },
    {
      "cell_type": "code",
      "execution_count": null,
      "metadata": {
        "id": "Axm3SI936RD6"
      },
      "outputs": [],
      "source": [
        "import tensorflow as tf\n",
        "import tensorflow_hub as tfhub\n",
        "\n",
        "model = tfhub.load('https://bit.ly/nlf_l')  # Takes several minutes\n",
        "! wget -q https://images.pexels.com/photos/8928887/pexels-photo-8928887.jpeg?cs=srgb&dl=pexels-rdne-8928887.jpg&fm=jpg&w=640&h=960 -O example.jpg\n",
        "img = tf.image.decode_image(tf.io.read_file('example.jpg'))\n",
        "pred = model.detect_smpl(img)"
      ]
    },
    {
      "cell_type": "code",
      "source": [
        "# SMPL Parametric predictions\n",
        "pred['pose'], pred['betas'], pred['trans']\n",
        "pred['joints3d'], pred['vertices3d']\n",
        "pred['joints2d'], pred['vertices2d']\n",
        "\n",
        "# Nonparametric joints and vertices\n",
        "pred['joints3d_nonparam'], pred['vertices3d_nonparam']\n",
        "pred['joints2d_nonparam'], pred['vertices2d_nonparam']\n",
        "pred['joint_uncertainties'], pred['vertes_uncertainties']"
      ],
      "metadata": {
        "id": "9ZOs2eUM9ywg"
      },
      "execution_count": null,
      "outputs": []
    }
  ]
}